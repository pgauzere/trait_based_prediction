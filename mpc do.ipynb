{
 "cells": [
  {
   "cell_type": "code",
   "execution_count": 1,
   "metadata": {},
   "outputs": [],
   "source": [
    "import numpy as np\n",
    "import sys\n",
    "from casadi import *\n",
    "\n",
    "# Add do_mpc to path. This is not necessary if it was installed via pip\n",
    "sys.path.append('../../../')\n",
    "\n",
    "# Import do_mpc package:\n",
    "import do_mpc\n",
    "\n",
    "import matplotlib.pyplot as plt\n",
    "\n",
    "model_type = 'continuous' # either 'discrete' or 'continuous'\n",
    "model = do_mpc.model.Model(model_type)\n"
   ]
  },
  {
   "cell_type": "code",
   "execution_count": 2,
   "metadata": {},
   "outputs": [
    {
     "data": {
      "text/plain": [
       "array([[0.25],\n",
       "       [0.25],\n",
       "       [0.25],\n",
       "       [0.25],\n",
       "       [0.25],\n",
       "       [0.25],\n",
       "       [0.25],\n",
       "       [0.25],\n",
       "       [0.25],\n",
       "       [0.25]])"
      ]
     },
     "execution_count": 2,
     "metadata": {},
     "output_type": "execute_result"
    }
   ],
   "source": [
    "# random seed\n",
    "numpy.random.seed(13)\n",
    "\n",
    "# parameters\n",
    "n_sp = 10\n",
    "\n",
    "# States struct\n",
    "_N = model.set_variable(var_type='_x', var_name='_N', shape=(n_sp,1))\n",
    "# (optimization variables)\n",
    "_u = model.set_variable(var_type='_u', var_name='_u', shape=(n_sp,1))\n",
    "\n",
    "# draw trait values from uniform random distribution, sort in order\n",
    "T = np.sort(np.random.uniform(0,1,n_sp)).reshape(n_sp,1)\n",
    "T\n",
    "E = 5\n",
    "\n",
    "def niche_difference(T, E):\n",
    "    A = np.zeros([len(T), len(T)])\n",
    "\n",
    "    for i in range(0, len(T)):\n",
    "        for j in range(0, len(T)):\n",
    "            if(T[i] != T[j]): \n",
    "                A[i,j] = (-1 / (1 + E)) * abs (1 / (T[i] - T[j]))\n",
    "            else:\n",
    "                A[i,j] = -1\n",
    "                \n",
    "    return(A)\n",
    "\n",
    "A = niche_difference(T,E)\n",
    "\n",
    "# intrinsic growth rates\n",
    "r = np.repeat(1, n_sp).reshape(n_sp,1)\n",
    "\n",
    "# controllable variables\n",
    "# initially all uncontrollable\n",
    "B = np.repeat(0, n_sp).reshape(n_sp,1)\n",
    "# (species with second-biggest and second-smallest trait values are controllable)\n",
    "#B[n_sp-1] = 1\n",
    "#B[0] = 1\n",
    "B[7] = 1\n",
    "B[3] = 1\n",
    "\n",
    "# initial conditions\n",
    "#x0 = -1*np.linalg.inv(A)@r # set to equilibrium to start\n",
    "# set to equal abundances to start\n",
    "x0 = np.repeat(0.25, n_sp).reshape(n_sp,1)\n",
    "\n",
    "x0"
   ]
  },
  {
   "cell_type": "code",
   "execution_count": 3,
   "metadata": {},
   "outputs": [
    {
     "data": {
      "text/plain": [
       "array([[0.23754122],\n",
       "       [0.45344925],\n",
       "       [0.60904246],\n",
       "       [0.64161334],\n",
       "       [0.72201823],\n",
       "       [0.77552651],\n",
       "       [0.77770241],\n",
       "       [0.82427853],\n",
       "       [0.9657492 ],\n",
       "       [0.97260111]])"
      ]
     },
     "execution_count": 3,
     "metadata": {},
     "output_type": "execute_result"
    }
   ],
   "source": [
    "T"
   ]
  },
  {
   "cell_type": "code",
   "execution_count": 4,
   "metadata": {},
   "outputs": [],
   "source": [
    "delta_t = 1e-2\n",
    "n_step = 1000\n",
    "n_horizon = 3\n",
    "\n",
    "# set the differential equation (GLV plus a perturbation to abundance)\n",
    "model.set_rhs('_N', (_N*(r+A@_N)+B*_u))\n",
    "\n",
    "# make a CWM target\n",
    "T_cwm = model.set_expression(expr_name='T_cwm', expr=sum1(T*_N)/sum1(_N) )\n",
    "N_tot = model.set_expression(expr_name='N_tot', expr=sum1(_N))\n",
    "richness = model.set_expression(expr_name='richness', expr=sum1(_N>0.01))\n",
    "\n",
    "# Build the model\n",
    "model.setup()\n",
    "mpc = do_mpc.controller.MPC(model)\n",
    "\n",
    "setup_mpc = {\n",
    "    'n_horizon': n_horizon,\n",
    "    'n_robust': 1,\n",
    "    'open_loop': 0,\n",
    "    't_step': delta_t,\n",
    "    'state_discretization': 'collocation',\n",
    "    'collocation_type': 'radau',\n",
    "    'collocation_deg': 2,\n",
    "    'collocation_ni': 2,\n",
    "    'store_full_solution': True,\n",
    "    # Use MA27 linear solver in ipopt for faster calculations:\n",
    "    #'nlpsol_opts': {'ipopt.linear_solver': 'MA27'}\n",
    "}\n",
    "\n",
    "mpc.set_param(**setup_mpc)"
   ]
  },
  {
   "cell_type": "code",
   "execution_count": 5,
   "metadata": {},
   "outputs": [],
   "source": [
    "mterm = sum1(model.aux['T_cwm'] - 0.5)**2 * 1/model.aux['richness']\n",
    "lterm = sum1(model.aux['T_cwm'] - 0.5)**2 * 1/model.aux['richness']\n",
    "\n",
    "#mterm = sum1((model.x['_N'][2])**2)\n",
    "#lterm = sum1((model.x['_N'][2])**2)\n",
    "\n",
    "mpc.set_objective(mterm=mterm, lterm=lterm)\n",
    "\n",
    "mpc.set_rterm(_u=1e-3) # input penalty\n",
    "\n",
    "min_N = np.repeat(0, n_sp)\n",
    "max_N = np.repeat(5, n_sp)\n",
    "\n",
    "min_u = np.repeat(-10, n_sp)\n",
    "max_u = np.repeat(10, n_sp)\n",
    "\n",
    "# lower bounds of the states\n",
    "mpc.bounds['lower','_x','_N'] = min_N\n",
    "\n",
    "# upper bounds of the states\n",
    "mpc.bounds['upper','_x','_N'] = max_N\n",
    "\n",
    "# lower bounds of the input\n",
    "mpc.bounds['lower','_u','_u'] = min_u\n",
    "\n",
    "# upper bounds of the input\n",
    "mpc.bounds['upper','_u','_u'] =  max_u"
   ]
  },
  {
   "cell_type": "code",
   "execution_count": 6,
   "metadata": {},
   "outputs": [],
   "source": [
    "%%capture\n",
    "\n",
    "mpc.setup()\n",
    "estimator = do_mpc.estimator.StateFeedback(model)\n",
    "simulator = do_mpc.simulator.Simulator(model)\n",
    "\n",
    "params_simulator = {\n",
    "    'integration_tool': 'cvodes',\n",
    "    'abstol': 1e-8,\n",
    "    'reltol': 1e-8,\n",
    "    't_step': delta_t\n",
    "}\n",
    "\n",
    "simulator.set_param(**params_simulator)\n",
    "\n",
    "simulator.setup()\n",
    "\n",
    "mpc.x0 = x0\n",
    "simulator.x0 = x0\n",
    "estimator.x0 = x0\n",
    "\n",
    "# Use initial state to set the initial guess.\n",
    "mpc.set_initial_guess()\n",
    "\n",
    "for k in range(n_step):\n",
    "    u0 = mpc.make_step(x0)\n",
    "    y_next = simulator.make_step(u0)\n",
    "    x0 = estimator.make_step(y_next)"
   ]
  },
  {
   "cell_type": "code",
   "execution_count": 7,
   "metadata": {},
   "outputs": [
    {
     "data": {
      "image/png": "[encoded data removed]",
      "text/plain": [
       "<Figure size 432x288 with 5 Axes>"
      ]
     },
     "metadata": {
      "needs_background": "light"
     },
     "output_type": "display_data"
    }
   ],
   "source": [
    "import matplotlib.pyplot as plt\n",
    "fig, ax, graphics = do_mpc.graphics.default_plot(mpc.data)\n",
    "graphics.plot_results()\n",
    "graphics.reset_axes()\n",
    "plt.show()"
   ]
  },
  {
   "cell_type": "code",
   "execution_count": 8,
   "metadata": {},
   "outputs": [],
   "source": [
    "preds_statevars = mpc.data['_x']\n",
    "numpy.savetxt(\"preds_statevars.csv\", preds_statevars, delimiter=\",\")\n",
    "\n",
    "preds_perturbations = mpc.data['_u']\n",
    "numpy.savetxt(\"preds_perturbations.csv\", preds_perturbations, delimiter=\",\")\n",
    "\n",
    "preds_time = mpc.data['_time']\n",
    "numpy.savetxt(\"preds_time.csv\", preds_time, delimiter=\",\")\n",
    "\n",
    "numpy.savetxt(\"preds_traits.csv\", T, delimiter=\",\")\n",
    "\n",
    "preds_aux = mpc.data['_aux']\n",
    "numpy.savetxt(\"preds_aux.csv\", preds_aux, delimiter=\",\")"
   ]
  },
  {
   "cell_type": "code",
   "execution_count": null,
   "metadata": {},
   "outputs": [],
   "source": []
  }
 ],
 "metadata": {
  "kernelspec": {
   "display_name": "Python 3",
   "language": "python",
   "name": "python3"
  },
  "language_info": {
   "codemirror_mode": {
    "name": "ipython",
    "version": 3
   },
   "file_extension": ".py",
   "mimetype": "text/x-python",
   "name": "python",
   "nbconvert_exporter": "python",
   "pygments_lexer": "ipython3",
   "version": "3.8.3"
  },
  "toc": {
   "base_numbering": 1,
   "nav_menu": {},
   "number_sections": true,
   "sideBar": true,
   "skip_h1_title": false,
   "title_cell": "Table of Contents",
   "title_sidebar": "Contents",
   "toc_cell": false,
   "toc_position": {},
   "toc_section_display": true,
   "toc_window_display": false
  }
 },
 "nbformat": 4,
 "nbformat_minor": 4
}
